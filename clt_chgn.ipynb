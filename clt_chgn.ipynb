import pandas as pd
import numpy as np
import matplotlib.pyplot as plt
import seaborn as sns

# Load the dataset
df = pd.read_csv('/content/drive/MyDrive/climate_data.csv')

# Display the first few rows of the dataset
print(df.head())

# Display basic information about the dataset
print(df.info())

# Display descriptive statistics
print(df.describe())

# Check for missing data
print(df.isnull().sum())

# Option 1: Drop missing values
df.dropna(inplace=True)

# Option 2: Fill missing values (for example, with the mean)
# df.fillna(df.mean(), inplace=True)

# Check the data types
print(df.dtypes)

# Convert data types if necessary
df['Year'] = df['Year'].astype(int)

plt.figure(figsize=(10, 6))
sns.histplot(df['Temp'], bins=30, kde=True)
plt.title('Distribution of Temperature Anomalies')
plt.xlabel('Temperature Anomaly (°C)')
plt.ylabel('Frequency')
plt.show()

plt.figure(figsize=(10, 6))
sns.histplot(df['CO2'], bins=30, kde=True)
plt.title('Distribution of CO2 Levels')
plt.xlabel('CO2 Levels (ppm)')
plt.ylabel('Frequency')
plt.show()

plt.figure(figsize=(10, 6))
sns.scatterplot(data=df, x='CO2', y='Temp')
plt.title('CO2 Levels vs Temperature Anomalies')
plt.xlabel('CO2 Levels (ppm)')
plt.ylabel('Temperature Anomaly (°C)')
plt.show()

# Calculate the correlation coefficient
correlation = df['CO2'].corr(df['Temp'])
print(f'Correlation between CO2 and Temperature Anomaly: {correlation}')

plt.figure(figsize=(12, 6))
sns.lineplot(data=df, x='Year', y='CO2', label='CO2 Levels', color='b')
sns.lineplot(data=df, x='Year', y='Temp', label='Temperature Anomaly', color='r')
plt.title('CO2 Levels and Temperature Anomalies Over the Years')
plt.xlabel('Year')
plt.ylabel('Values')
plt.legend()
plt.show()

# Using Z-score for outlier detection
from scipy import stats

# Calculate z-scores for 'CO2' and 'Temp' columns separately
df['z_score_CO2'] = np.abs(stats.zscore(df['CO2']))
df['z_score_Temp'] = np.abs(stats.zscore(df['Temp']))

# Identify outliers based on either CO2 or Temp z-score exceeding threshold
outliers = df[(df['z_score_CO2'] > 3) | (df['z_score_Temp'] > 3)]

# Display outliers
print(outliers)

# Create a new feature: CO2 anomaly (compared to mean)
df['CO2_Anomaly'] = df['CO2'] - df['CO2'].mean()

# Create a year category
df['Year_Category'] = pd.cut(df['Year'], bins=[1900, 1950, 2000, 2050], labels=['1900-1950', '1951-2000', '2001-2050'])

plt.figure(figsize=(10, 6))
sns.lineplot(data=df, x='Year', y='CO2_Anomaly')
plt.title('CO2 Anomaly Over the Years')
plt.xlabel('Year')
plt.ylabel('CO2 Anomaly (ppm)')
plt.show()

plt.figure(figsize=(12, 6))
sns.boxplot(x='Year_Category', y='Temp', data=df)
plt.title('Temperature Anomaly by Year Category')
plt.xlabel('Year Category')
plt.ylabel('Temperature Anomaly (°C)')
plt.show()

# Correlation heatmap for numerical variables
plt.figure(figsize=(8, 6))
# Select only numerical features for correlation calculation
numerical_df = df.select_dtypes(include=np.number)
sns.heatmap(numerical_df.corr(), annot=True, cmap='coolwarm', linewidths=0.5)
plt.title('Heatmap of Correlations')
plt.show()

# Pie chart for year categories
year_category_counts = df['Year_Category'].value_counts()

plt.figure(figsize=(8, 8))
plt.pie(year_category_counts, labels=year_category_counts.index, autopct='%1.1f%%', startangle=90, colors=['lightblue', 'lightgreen', 'lightcoral'])
plt.title('Distribution of Data by Year Category')
plt.show()



